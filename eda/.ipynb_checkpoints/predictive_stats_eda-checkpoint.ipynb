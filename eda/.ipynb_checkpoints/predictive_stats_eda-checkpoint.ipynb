{
 "cells": [
  {
   "cell_type": "code",
   "execution_count": 37,
   "metadata": {},
   "outputs": [
    {
     "name": "stderr",
     "output_type": "stream",
     "text": [
      "C:\\Users\\imacd_0odruq3\\anaconda3\\lib\\site-packages\\statsmodels\\tsa\\base\\tsa_model.py:7: FutureWarning: pandas.Int64Index is deprecated and will be removed from pandas in a future version. Use pandas.Index with the appropriate dtype instead.\n",
      "  from pandas import (to_datetime, Int64Index, DatetimeIndex, Period,\n",
      "C:\\Users\\imacd_0odruq3\\anaconda3\\lib\\site-packages\\statsmodels\\tsa\\base\\tsa_model.py:7: FutureWarning: pandas.Float64Index is deprecated and will be removed from pandas in a future version. Use pandas.Index with the appropriate dtype instead.\n",
      "  from pandas import (to_datetime, Int64Index, DatetimeIndex, Period,\n"
     ]
    }
   ],
   "source": [
    "# Import packages\n",
    "\n",
    "import pandas as pd \n",
    "import numpy as np \n",
    "import os\n",
    "\n",
    "from sklearn.model_selection import train_test_split\n",
    "from sklearn.linear_model import LogisticRegression\n",
    "from sklearn.metrics import accuracy_score\n",
    "from sklearn.model_selection import cross_validate\n",
    "from sklearn.ensemble import RandomForestClassifier\n",
    "from sklearn.model_selection import GridSearchCV\n",
    "\n",
    "import xgboost as xgb\n",
    "\n",
    "from joblib import dump, load\n",
    "\n",
    "import seaborn as sns\n",
    "\n",
    "from statsmodels.graphics.tsaplots import plot_acf\n",
    "\n",
    "pd.set_option('display.max_columns', None)"
   ]
  },
  {
   "cell_type": "code",
   "execution_count": 38,
   "metadata": {},
   "outputs": [],
   "source": [
    "nfl = pd.read_csv('../data/nfl_game_by_game_raw_stats.csv')"
   ]
  },
  {
   "cell_type": "code",
   "execution_count": 39,
   "metadata": {},
   "outputs": [],
   "source": [
    "# nfl"
   ]
  },
  {
   "cell_type": "code",
   "execution_count": 40,
   "metadata": {},
   "outputs": [],
   "source": [
    "# Add column for team win, see which columns are most closely correlated with it\n",
    "\n",
    "nfl['team_win'] = nfl.apply(lambda x: 1 if x.score > x.opponent_score else 0, axis=1)"
   ]
  },
  {
   "cell_type": "code",
   "execution_count": 41,
   "metadata": {},
   "outputs": [
    {
     "data": {
      "text/plain": [
       "total_opposing_epa            -0.759850\n",
       "opponent_score                -0.575043\n",
       "passing_epa_allowed           -0.515946\n",
       "qb_epa_allowed                -0.513145\n",
       "total_rushes_allowed          -0.496262\n",
       "total_rush_yards_allowed      -0.377886\n",
       "avg_cpoe_allowed              -0.362739\n",
       "interceptions_thrown_team     -0.343489\n",
       "qb_hits_allowed_team          -0.343152\n",
       "sacks_allowed_team            -0.327988\n",
       "rush_tds_allowed              -0.321256\n",
       "interceptions_thrown_qb       -0.285163\n",
       "pass_tds_allowed              -0.279203\n",
       "sacks_taken_qb                -0.242681\n",
       "qb_hits_taken_qb              -0.231350\n",
       "lost_fumbles_team             -0.200616\n",
       "lost_fumbles_qb               -0.181362\n",
       "fumbles_team                  -0.167019\n",
       "fumbles_qb                    -0.161400\n",
       "rushing_epa_allowed           -0.154047\n",
       "yac_epa_allowed               -0.143922\n",
       "air_epa_allowed               -0.121537\n",
       "total_pass_attempts           -0.121299\n",
       "yards_after_catch_allowed     -0.091054\n",
       "qb_rush_tds_allowed           -0.084840\n",
       "qb_rushing_epa_allowed        -0.077987\n",
       "passing_yards_allowed         -0.074451\n",
       "air_yards_allowed             -0.029613\n",
       "completions                   -0.024299\n",
       "qb_rush_yards_allowed         -0.010227\n",
       "season                        -0.009403\n",
       "week                           0.004303\n",
       "qb_rush_yards                  0.006476\n",
       "total_qb_rush_attempts         0.022758\n",
       "air_yards                      0.044044\n",
       "total_passing_yards            0.056486\n",
       "qb_rushing_epa                 0.059210\n",
       "qb_rush_tds                    0.073852\n",
       "completions_allowed            0.078756\n",
       "yards_after_catch              0.085764\n",
       "air_epa                        0.118628\n",
       "yac_epa                        0.129727\n",
       "rushing_epa                    0.152998\n",
       "avg_cpoe                       0.189825\n",
       "fumbles_forced                 0.192877\n",
       "fumbles_recovered              0.197518\n",
       "special_teams_epa              0.213800\n",
       "pass_tds                       0.235130\n",
       "total_pass_attempts_allowed    0.284917\n",
       "rush_tds                       0.320100\n",
       "sacks                          0.325647\n",
       "interceptions                  0.341790\n",
       "qb_hits                        0.344279\n",
       "total_rush_yards               0.374398\n",
       "qb_epa                         0.453290\n",
       "passing_epa                    0.458353\n",
       "total_rushes                   0.491379\n",
       "score                          0.583085\n",
       "total_epa                      0.759850\n",
       "team_win                       1.000000\n",
       "Name: team_win, dtype: float64"
      ]
     },
     "execution_count": 41,
     "metadata": {},
     "output_type": "execute_result"
    }
   ],
   "source": [
    "# Correlation\n",
    "\n",
    "nfl.corr()['team_win'].sort_values()"
   ]
  },
  {
   "cell_type": "code",
   "execution_count": 42,
   "metadata": {},
   "outputs": [],
   "source": [
    "# Add column for whether or not the team wins the following week, see which columns are most closely correlated with it\n",
    "\n",
    "nfl['team_win_following_week'] = nfl.groupby(by=['season', 'team', 'qb'])['team_win'].shift(-1)"
   ]
  },
  {
   "cell_type": "code",
   "execution_count": 43,
   "metadata": {},
   "outputs": [
    {
     "data": {
      "text/plain": [
       "total_opposing_epa          -0.111786\n",
       "total_rushes_allowed        -0.085017\n",
       "sacks_allowed_team          -0.069117\n",
       "qb_hits_allowed_team        -0.064610\n",
       "total_rush_yards_allowed    -0.060236\n",
       "qb_epa_allowed              -0.057390\n",
       "opponent_score              -0.056648\n",
       "interceptions_thrown_team   -0.054544\n",
       "passing_epa_allowed         -0.051992\n",
       "qb_rushing_epa_allowed      -0.045884\n",
       "avg_cpoe_allowed            -0.045721\n",
       "sacks_taken_qb              -0.039280\n",
       "interceptions_thrown_qb     -0.036840\n",
       "qb_rush_tds_allowed         -0.036835\n",
       "qb_hits_taken_qb            -0.029080\n",
       "Name: team_win_following_week, dtype: float64"
      ]
     },
     "execution_count": 43,
     "metadata": {},
     "output_type": "execute_result"
    }
   ],
   "source": [
    "nfl.corr()['team_win_following_week'].sort_values()[0:15]"
   ]
  },
  {
   "cell_type": "code",
   "execution_count": 44,
   "metadata": {},
   "outputs": [
    {
     "data": {
      "text/plain": [
       "pass_tds_allowed              -0.028822\n",
       "rush_tds_allowed              -0.028138\n",
       "fumbles_team                  -0.025856\n",
       "air_epa_allowed               -0.023344\n",
       "rushing_epa_allowed           -0.021498\n",
       "air_yards_allowed             -0.013265\n",
       "fumbles_qb                    -0.010174\n",
       "passing_yards_allowed         -0.010075\n",
       "qb_rush_yards_allowed         -0.009164\n",
       "qb_rush_tds                   -0.002502\n",
       "lost_fumbles_team             -0.001406\n",
       "season                        -0.000537\n",
       "yards_after_catch_allowed     -0.000351\n",
       "lost_fumbles_qb                0.001740\n",
       "yac_epa_allowed                0.003417\n",
       "special_teams_epa              0.003475\n",
       "week                           0.008219\n",
       "qb_rush_yards                  0.008738\n",
       "qb_rushing_epa                 0.010054\n",
       "total_qb_rush_attempts         0.010618\n",
       "completions_allowed            0.011603\n",
       "rush_tds                       0.032958\n",
       "total_rushes                   0.032991\n",
       "sacks                          0.033644\n",
       "total_pass_attempts_allowed    0.034545\n",
       "fumbles_forced                 0.037250\n",
       "total_pass_attempts            0.038967\n",
       "fumbles_recovered              0.039884\n",
       "total_rush_yards               0.041350\n",
       "air_epa                        0.041918\n",
       "qb_hits                        0.043154\n",
       "rushing_epa                    0.049237\n",
       "air_yards                      0.055937\n",
       "completions                    0.057929\n",
       "avg_cpoe                       0.060835\n",
       "interceptions                  0.061738\n",
       "yards_after_catch              0.062563\n",
       "total_passing_yards            0.064770\n",
       "yac_epa                        0.074061\n",
       "pass_tds                       0.088454\n",
       "passing_epa                    0.094103\n",
       "qb_epa                         0.094663\n",
       "team_win                       0.103437\n",
       "score                          0.108608\n",
       "total_epa                      0.111786\n",
       "team_win_following_week        1.000000\n",
       "Name: team_win_following_week, dtype: float64"
      ]
     },
     "execution_count": 44,
     "metadata": {},
     "output_type": "execute_result"
    }
   ],
   "source": [
    "nfl.corr()['team_win_following_week'].sort_values()[15:]"
   ]
  },
  {
   "cell_type": "code",
   "execution_count": null,
   "metadata": {},
   "outputs": [],
   "source": [
    "# Team winning is (comparatively) pretty heavily correlated with winning the following week. Maybe there's some \n",
    "# validity to the concept of a team having momentum? If you win the previous week you're more likely to win the\n",
    "# following week? \n",
    "\n",
    "# Think it might be a good idea into looking at a way to quantify a team being \"on a roll\" or \"in a slump\""
   ]
  },
  {
   "cell_type": "code",
   "execution_count": 47,
   "metadata": {},
   "outputs": [
    {
     "data": {
      "image/png": "[encoded data removed]",
      "text/plain": [
       "<Figure size 432x288 with 1 Axes>"
      ]
     },
     "execution_count": 47,
     "metadata": {},
     "output_type": "execute_result"
    },
    {
     "data": {
      "image/png": "[encoded data removed]",
      "text/plain": [
       "<Figure size 432x288 with 1 Axes>"
      ]
     },
     "metadata": {
      "needs_background": "light"
     },
     "output_type": "display_data"
    }
   ],
   "source": [
    "# Want to look at autocorrelation - how many games back does the correlation become essentially 0?\n",
    "\n",
    "plot_acf(nfl.team_win, lags=10)"
   ]
  },
  {
   "cell_type": "code",
   "execution_count": 48,
   "metadata": {},
   "outputs": [
    {
     "data": {
      "image/png": "[encoded data removed]",
      "text/plain": [
       "<Figure size 432x288 with 1 Axes>"
      ]
     },
     "execution_count": 48,
     "metadata": {},
     "output_type": "execute_result"
    },
    {
     "data": {
      "image/png": "[encoded data removed]",
      "text/plain": [
       "<Figure size 432x288 with 1 Axes>"
      ]
     },
     "metadata": {
      "needs_background": "light"
     },
     "output_type": "display_data"
    }
   ],
   "source": [
    "plot_acf(nfl.qb_epa, lags=10)"
   ]
  },
  {
   "cell_type": "code",
   "execution_count": null,
   "metadata": {},
   "outputs": [],
   "source": [
    "# Seems like kind of a pain to calculate cross correlation, might be worth it to check later the cross correlation between \n",
    "# qb epa and team win to see how many games back qb epa is correlated with a team winning, but based on the autocorrelation \n",
    "# graphs for qb epa i dont think there will be much helpful information there. "
   ]
  }
 ],
 "metadata": {
  "kernelspec": {
   "display_name": "Python 3",
   "language": "python",
   "name": "python3"
  },
  "language_info": {
   "codemirror_mode": {
    "name": "ipython",
    "version": 3
   },
   "file_extension": ".py",
   "mimetype": "text/x-python",
   "name": "python",
   "nbconvert_exporter": "python",
   "pygments_lexer": "ipython3",
   "version": "3.8.3"
  }
 },
 "nbformat": 4,
 "nbformat_minor": 4
}
