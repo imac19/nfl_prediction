{
 "cells": [
  {
   "cell_type": "code",
   "execution_count": 1,
   "metadata": {},
   "outputs": [
    {
     "name": "stderr",
     "output_type": "stream",
     "text": [
      "C:\\Users\\imacd_0odruq3\\anaconda3\\lib\\site-packages\\pandas\\core\\computation\\expressions.py:20: UserWarning: Pandas requires version '2.7.3' or newer of 'numexpr' (version '2.7.1' currently installed).\n",
      "  from pandas.core.computation.check import NUMEXPR_INSTALLED\n"
     ]
    }
   ],
   "source": [
    "import pandas as pd\n",
    "import numpy as np \n",
    "import random as rand"
   ]
  },
  {
   "cell_type": "code",
   "execution_count": 25,
   "metadata": {},
   "outputs": [],
   "source": [
    "num_games = 240\n",
    "total_bettors = 100\n",
    "win_percentages = []\n",
    "\n",
    "for bettor in range(0, total_bettors):\n",
    "    total_correct = 0\n",
    "    for game in range(0, num_games):\n",
    "        if rand.random() >= .5:\n",
    "            total_correct += 1\n",
    "    win_percentages.append(total_correct/num_games)"
   ]
  },
  {
   "cell_type": "code",
   "execution_count": 32,
   "metadata": {},
   "outputs": [
    {
     "name": "stdout",
     "output_type": "stream",
     "text": [
      "Profitable Percentage: 0.27\n"
     ]
    }
   ],
   "source": [
    "profitable = 0\n",
    "for pct in win_percentages:\n",
    "    if pct >= .524:\n",
    "        profitable +=1\n",
    "        \n",
    "print('Profitable Percentage: {}'.format(profitable/len(win_percentages)))"
   ]
  },
  {
   "cell_type": "code",
   "execution_count": 33,
   "metadata": {},
   "outputs": [
    {
     "name": "stdout",
     "output_type": "stream",
     "text": [
      "Profitable Percentage: 0.16\n"
     ]
    }
   ],
   "source": [
    "profitable = 0\n",
    "for pct in win_percentages:\n",
    "    if pct >= .5375:\n",
    "        profitable +=1\n",
    "        \n",
    "print('Profitable Percentage: {}'.format(profitable/len(win_percentages)))"
   ]
  },
  {
   "cell_type": "code",
   "execution_count": null,
   "metadata": {},
   "outputs": [],
   "source": []
  }
 ],
 "metadata": {
  "kernelspec": {
   "display_name": "Python 3",
   "language": "python",
   "name": "python3"
  },
  "language_info": {
   "codemirror_mode": {
    "name": "ipython",
    "version": 3
   },
   "file_extension": ".py",
   "mimetype": "text/x-python",
   "name": "python",
   "nbconvert_exporter": "python",
   "pygments_lexer": "ipython3",
   "version": "3.8.3"
  }
 },
 "nbformat": 4,
 "nbformat_minor": 4
}
