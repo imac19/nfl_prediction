{
 "cells": [
  {
   "cell_type": "code",
   "execution_count": 2,
   "metadata": {},
   "outputs": [],
   "source": [
    "# Import packages\n",
    "\n",
    "import pandas as pd \n",
    "import numpy as np \n",
    "import os\n",
    "\n",
    "from sklearn.model_selection import train_test_split\n",
    "from sklearn.linear_model import LogisticRegression\n",
    "from sklearn.metrics import accuracy_score\n",
    "from sklearn.model_selection import cross_validate\n",
    "from sklearn.ensemble import RandomForestClassifier\n",
    "from sklearn.model_selection import GridSearchCV\n",
    "from sklearn.metrics import confusion_matrix\n",
    "\n",
    "import plotly.express as px\n",
    "\n",
    "import xgboost as xgb\n",
    "\n",
    "from joblib import dump, load\n",
    "\n",
    "pd.set_option('display.max_columns', None)"
   ]
  },
  {
   "cell_type": "code",
   "execution_count": 3,
   "metadata": {},
   "outputs": [],
   "source": [
    "prediction_season = 2022"
   ]
  },
  {
   "cell_type": "code",
   "execution_count": 14,
   "metadata": {},
   "outputs": [],
   "source": [
    "# Base data frames\n",
    "\n",
    "point_spread_base = pd.read_csv('../data/adjusted_stats_point_spread_modeling_base_df.csv').dropna()\n",
    "over_under_base = pd.read_csv('../data/adjusted_stats_over_under_modeling_base_df.csv').dropna()\n",
    "game_outcome_base = pd.read_csv('../data/adjusted_stats_modeling_base_df.csv').dropna()"
   ]
  },
  {
   "cell_type": "code",
   "execution_count": 15,
   "metadata": {},
   "outputs": [],
   "source": [
    "# Feature lists\n",
    "\n",
    "point_spread_feature_list = [\n",
    "    'passing_value_adjusted_home'\n",
    "    , 'rushing_value_adjusted_home'\n",
    "    , 'pass_def_value_adjusted_home'\n",
    "    , 'rush_def_value_adjusted_home'\n",
    "    , 'special_teams_value_home'\n",
    "    , 'passing_value_adjusted_away'\n",
    "    , 'rushing_value_adjusted_away'\n",
    "    , 'pass_def_value_adjusted_away'\n",
    "    , 'rush_def_value_adjusted_away'\n",
    "    , 'special_teams_value_away'\n",
    "    , 'total_possession_time_standardized_home'\n",
    "    , 'total_possession_time_standardized_away'\n",
    "    , 'total_plays_standardized_home'\n",
    "    , 'total_plays_standardized_away'\n",
    "    , 'pass_percentage_standardized_home'\n",
    "    , 'pass_percentage_standardized_away'\n",
    "    , 'home_spread'\n",
    "]\n",
    "\n",
    "over_under_feature_list = [\n",
    "    'passing_value_adjusted_home'\n",
    "    , 'rushing_value_adjusted_home'\n",
    "    , 'pass_def_value_adjusted_home'\n",
    "    , 'rush_def_value_adjusted_home'\n",
    "    , 'special_teams_value_home'\n",
    "    , 'passing_value_adjusted_away'\n",
    "    , 'rushing_value_adjusted_away'\n",
    "    , 'pass_def_value_adjusted_away'\n",
    "    , 'rush_def_value_adjusted_away'\n",
    "    , 'special_teams_value_away'\n",
    "    , 'total_possession_time_standardized_home'\n",
    "    , 'total_possession_time_standardized_away'\n",
    "    , 'total_plays_standardized_home'\n",
    "    , 'total_plays_standardized_away'\n",
    "    , 'pass_percentage_standardized_home'\n",
    "    , 'pass_percentage_standardized_away'\n",
    "    , 'total_score_line'\n",
    "]\n",
    "\n",
    "game_outcome_feature_list =[\n",
    "    'passing_value_adjusted_home'\n",
    "    , 'rushing_value_adjusted_home' \n",
    "    , 'pass_def_value_adjusted_home' \n",
    "    , 'rush_def_value_adjusted_home' \n",
    "    , 'special_teams_value_home'\n",
    "    , 'passing_value_adjusted_away' \n",
    "    , 'rushing_value_adjusted_away' \n",
    "    , 'pass_def_value_adjusted_away' \n",
    "    , 'rush_def_value_adjusted_away' \n",
    "    , 'special_teams_value_away'\n",
    "]"
   ]
  },
  {
   "cell_type": "code",
   "execution_count": 16,
   "metadata": {},
   "outputs": [],
   "source": [
    "# Get features\n",
    "\n",
    "point_spread_features = point_spread_base[point_spread_base.season == prediction_season][point_spread_feature_list].to_numpy()\n",
    "over_under_features = over_under_base[over_under_base.season == prediction_season][over_under_feature_list].to_numpy()\n",
    "game_outcome_features = game_outcome_base[game_outcome_base.season == prediction_season][game_outcome_feature_list].to_numpy()"
   ]
  },
  {
   "cell_type": "code",
   "execution_count": 17,
   "metadata": {},
   "outputs": [],
   "source": [
    "# Import models\n",
    "\n",
    "point_spread_model = load('../modeling/point_spread_modeling/saved_models/ps_xg_boost_av.joblib')\n",
    "over_under_model = load('../modeling/over_under_modeling/saved_models/ou_xg_boost_av.joblib')\n",
    "game_outcome_model = load('../modeling/game_outcome_modeling/saved_models/random_forest_av.joblib')"
   ]
  },
  {
   "cell_type": "code",
   "execution_count": null,
   "metadata": {},
   "outputs": [],
   "source": []
  }
 ],
 "metadata": {
  "kernelspec": {
   "display_name": "Python 3",
   "language": "python",
   "name": "python3"
  },
  "language_info": {
   "codemirror_mode": {
    "name": "ipython",
    "version": 3
   },
   "file_extension": ".py",
   "mimetype": "text/x-python",
   "name": "python",
   "nbconvert_exporter": "python",
   "pygments_lexer": "ipython3",
   "version": "3.8.3"
  }
 },
 "nbformat": 4,
 "nbformat_minor": 4
}
