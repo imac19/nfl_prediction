{
 "cells": [
  {
   "cell_type": "code",
   "execution_count": 78,
   "metadata": {},
   "outputs": [],
   "source": [
    "# Import packages\n",
    "\n",
    "import pandas as pd \n",
    "import numpy as np \n",
    "import os\n",
    "\n",
    "from sklearn.model_selection import train_test_split\n",
    "from sklearn.linear_model import LogisticRegression\n",
    "from sklearn.metrics import accuracy_score\n",
    "from sklearn.model_selection import cross_validate\n",
    "from sklearn.ensemble import RandomForestClassifier\n",
    "from sklearn.model_selection import GridSearchCV\n",
    "from sklearn.metrics import confusion_matrix\n",
    "\n",
    "import plotly.express as px\n",
    "\n",
    "import xgboost as xgb\n",
    "\n",
    "from joblib import dump, load\n",
    "\n",
    "pd.set_option('display.max_columns', None)"
   ]
  },
  {
   "cell_type": "code",
   "execution_count": 79,
   "metadata": {},
   "outputs": [],
   "source": [
    "prediction_season = 2023"
   ]
  },
  {
   "cell_type": "code",
   "execution_count": 80,
   "metadata": {},
   "outputs": [],
   "source": [
    "# Base data frames\n",
    "\n",
    "point_spread_base = pd.read_csv('../pipeline_season_testing/data/final_predictive_dataframe.csv').dropna()\n",
    "over_under_base = pd.read_csv('../pipeline_season_testing/data/final_predictive_dataframe.csv').dropna()\n",
    "game_outcome_base = pd.read_csv('../pipeline_season_testing/data/final_predictive_dataframe.csv').dropna()\n",
    "gambling_base = pd.read_csv('../pipeline_season_testing/data/final_predictive_dataframe.csv').dropna()"
   ]
  },
  {
   "cell_type": "code",
   "execution_count": 81,
   "metadata": {},
   "outputs": [],
   "source": [
    "# Get relevant prediction season\n",
    "\n",
    "point_spread_base = point_spread_base[point_spread_base.season.isin([prediction_season])]\n",
    "over_under_base = over_under_base[over_under_base.season.isin([prediction_season])]\n",
    "game_outcome_base = game_outcome_base[game_outcome_base.season.isin([prediction_season])]\n",
    "gambling_base = gambling_base[gambling_base.season.isin([prediction_season])]"
   ]
  },
  {
   "cell_type": "code",
   "execution_count": 82,
   "metadata": {},
   "outputs": [],
   "source": [
    "# Feature lists\n",
    "\n",
    "point_spread_feature_list = [\n",
    "    'passing_value_adjusted_home'\n",
    "    , 'rushing_value_adjusted_home'\n",
    "    , 'pass_def_value_adjusted_home'\n",
    "    , 'rush_def_value_adjusted_home'\n",
    "    , 'special_teams_value_home'\n",
    "    , 'passing_value_adjusted_away'\n",
    "    , 'rushing_value_adjusted_away'\n",
    "    , 'pass_def_value_adjusted_away'\n",
    "    , 'rush_def_value_adjusted_away'\n",
    "    , 'special_teams_value_away'\n",
    "    , 'total_possession_time_standardized_home'\n",
    "    , 'total_possession_time_standardized_away'\n",
    "    , 'total_plays_standardized_home'\n",
    "    , 'total_plays_standardized_away'\n",
    "    , 'pass_percentage_standardized_home'\n",
    "    , 'pass_percentage_standardized_away'\n",
    "    , 'home_spread'\n",
    "]\n",
    "\n",
    "over_under_feature_list = [\n",
    "    'passing_value_adjusted_home'\n",
    "    , 'rushing_value_adjusted_home'\n",
    "    , 'pass_def_value_adjusted_home'\n",
    "    , 'rush_def_value_adjusted_home'\n",
    "    , 'special_teams_value_home'\n",
    "    , 'passing_value_adjusted_away'\n",
    "    , 'rushing_value_adjusted_away'\n",
    "    , 'pass_def_value_adjusted_away'\n",
    "    , 'rush_def_value_adjusted_away'\n",
    "    , 'special_teams_value_away'\n",
    "    , 'total_possession_time_standardized_home'\n",
    "    , 'total_possession_time_standardized_away'\n",
    "    , 'total_plays_standardized_home'\n",
    "    , 'total_plays_standardized_away'\n",
    "    , 'pass_percentage_standardized_home'\n",
    "    , 'pass_percentage_standardized_away'\n",
    "    , 'total_score_line'\n",
    "]\n",
    "\n",
    "game_outcome_feature_list =[\n",
    "    'passing_value_adjusted_home'\n",
    "    , 'rushing_value_adjusted_home' \n",
    "    , 'pass_def_value_adjusted_home' \n",
    "    , 'rush_def_value_adjusted_home' \n",
    "    , 'special_teams_value_home'\n",
    "    , 'passing_value_adjusted_away' \n",
    "    , 'rushing_value_adjusted_away' \n",
    "    , 'pass_def_value_adjusted_away' \n",
    "    , 'rush_def_value_adjusted_away' \n",
    "    , 'special_teams_value_away'\n",
    "]"
   ]
  },
  {
   "cell_type": "code",
   "execution_count": 83,
   "metadata": {},
   "outputs": [],
   "source": [
    "# Get features\n",
    "\n",
    "point_spread_features = point_spread_base[point_spread_feature_list].to_numpy()\n",
    "over_under_features = over_under_base[over_under_feature_list].to_numpy()\n",
    "game_outcome_features = game_outcome_base[game_outcome_feature_list].to_numpy()"
   ]
  },
  {
   "cell_type": "code",
   "execution_count": 84,
   "metadata": {},
   "outputs": [],
   "source": [
    "# Import models\n",
    "\n",
    "point_spread_model = load('../modeling/point_spread_modeling/saved_models/ps_xg_boost_av.joblib')\n",
    "over_under_model = load('../modeling/over_under_modeling/saved_models/ou_xg_boost_kinda_ok_av.joblib')\n",
    "game_outcome_model = load('../modeling/game_outcome_modeling/saved_models/xg_boost_av.joblib')"
   ]
  },
  {
   "cell_type": "code",
   "execution_count": 85,
   "metadata": {},
   "outputs": [],
   "source": [
    "# Point Spread Predictions\n",
    "\n",
    "home_cover_preds = point_spread_model.predict(point_spread_features)\n",
    "home_cover_probs = point_spread_model.predict_proba(point_spread_features)"
   ]
  },
  {
   "cell_type": "code",
   "execution_count": 86,
   "metadata": {},
   "outputs": [],
   "source": [
    "# Over Under Predictions\n",
    "\n",
    "over_hits_preds = over_under_model.predict(over_under_features)\n",
    "over_hits_probs = over_under_model.predict_proba(over_under_features)"
   ]
  },
  {
   "cell_type": "code",
   "execution_count": 87,
   "metadata": {},
   "outputs": [],
   "source": [
    "# Game Winner Predictions\n",
    "\n",
    "home_win_preds = game_outcome_model.predict(game_outcome_features)\n",
    "home_win_probs = game_outcome_model.predict_proba(game_outcome_features)"
   ]
  },
  {
   "cell_type": "code",
   "execution_count": 88,
   "metadata": {},
   "outputs": [],
   "source": [
    "point_spread_base['home_cover_pred'] = home_cover_preds\n",
    "point_spread_base['home_cover_prob'] = home_cover_probs[:,1]"
   ]
  },
  {
   "cell_type": "code",
   "execution_count": 89,
   "metadata": {},
   "outputs": [],
   "source": [
    "over_under_base['over_hits_pred'] = over_hits_preds\n",
    "over_under_base['over_hits_prob'] = over_hits_probs[:,1]"
   ]
  },
  {
   "cell_type": "code",
   "execution_count": 90,
   "metadata": {},
   "outputs": [],
   "source": [
    "game_outcome_base['home_win_pred'] = home_win_preds\n",
    "game_outcome_base['home_win_prob'] = home_win_probs[:,1]"
   ]
  },
  {
   "cell_type": "code",
   "execution_count": 91,
   "metadata": {},
   "outputs": [],
   "source": [
    "# Merge into one data frame\n",
    "\n",
    "gambling_base = gambling_base[['season', 'week', 'home', 'away', 'home_qb', 'away_qb', 'home_spread', 'away_spread', 'total_score_line', 'home_implied_prob', 'away_implied_prob', 'home_moneyline', 'away_moneyline']]\n",
    "gambling_base = gambling_base.merge(point_spread_base[['season', 'week', 'home', 'away', 'home_qb', 'away_qb', 'home_cover_pred', 'home_cover_prob']])\n",
    "gambling_base = gambling_base.merge(over_under_base[['season', 'week', 'home', 'away', 'home_qb', 'away_qb', 'over_hits_pred', 'over_hits_prob']])\n",
    "gambling_base = gambling_base.merge(game_outcome_base[['season', 'week', 'home', 'away', 'home_qb', 'away_qb', 'home_win_pred', 'home_win_prob']])"
   ]
  },
  {
   "cell_type": "code",
   "execution_count": 92,
   "metadata": {},
   "outputs": [],
   "source": [
    "gambling_base['home_cover_advantage'] = gambling_base.apply(lambda x: x.home_cover_prob-.5, axis=1)\n",
    "gambling_base['away_cover_advantage'] = gambling_base.apply(lambda x: (1-x.home_cover_prob)-.5, axis=1)"
   ]
  },
  {
   "cell_type": "code",
   "execution_count": 93,
   "metadata": {},
   "outputs": [],
   "source": [
    "gambling_base['over_advantage'] = gambling_base.apply(lambda x: x.over_hits_prob-.5, axis=1)\n",
    "gambling_base['under_advantage'] = gambling_base.apply(lambda x: (1-x.over_hits_prob)-.5, axis=1)"
   ]
  },
  {
   "cell_type": "code",
   "execution_count": 94,
   "metadata": {},
   "outputs": [],
   "source": [
    "gambling_base['home_win_advantage'] = gambling_base.apply(lambda x: x.home_win_prob-x.home_implied_prob, axis=1)\n",
    "gambling_base['away_win_advantage'] = gambling_base.apply(lambda x: (1-x.home_win_prob)-x.away_implied_prob, axis=1)"
   ]
  },
  {
   "cell_type": "code",
   "execution_count": 95,
   "metadata": {},
   "outputs": [
    {
     "data": {
      "text/html": [
       "<div>\n",
       "<style scoped>\n",
       "    .dataframe tbody tr th:only-of-type {\n",
       "        vertical-align: middle;\n",
       "    }\n",
       "\n",
       "    .dataframe tbody tr th {\n",
       "        vertical-align: top;\n",
       "    }\n",
       "\n",
       "    .dataframe thead th {\n",
       "        text-align: right;\n",
       "    }\n",
       "</style>\n",
       "<table border=\"1\" class=\"dataframe\">\n",
       "  <thead>\n",
       "    <tr style=\"text-align: right;\">\n",
       "      <th></th>\n",
       "      <th>season</th>\n",
       "      <th>week</th>\n",
       "      <th>home</th>\n",
       "      <th>away</th>\n",
       "      <th>home_qb</th>\n",
       "      <th>away_qb</th>\n",
       "      <th>home_spread</th>\n",
       "      <th>away_spread</th>\n",
       "      <th>total_score_line</th>\n",
       "      <th>home_implied_prob</th>\n",
       "      <th>away_implied_prob</th>\n",
       "      <th>home_moneyline</th>\n",
       "      <th>away_moneyline</th>\n",
       "      <th>home_cover_pred</th>\n",
       "      <th>home_cover_prob</th>\n",
       "      <th>over_hits_pred</th>\n",
       "      <th>over_hits_prob</th>\n",
       "      <th>home_win_pred</th>\n",
       "      <th>home_win_prob</th>\n",
       "      <th>home_cover_advantage</th>\n",
       "      <th>away_cover_advantage</th>\n",
       "      <th>over_advantage</th>\n",
       "      <th>under_advantage</th>\n",
       "      <th>home_win_advantage</th>\n",
       "      <th>away_win_advantage</th>\n",
       "    </tr>\n",
       "  </thead>\n",
       "  <tbody>\n",
       "    <tr>\n",
       "      <th>0</th>\n",
       "      <td>2023</td>\n",
       "      <td>1</td>\n",
       "      <td>KC</td>\n",
       "      <td>DET</td>\n",
       "      <td>P. Mahomes</td>\n",
       "      <td>J. Goff</td>\n",
       "      <td>-4.5</td>\n",
       "      <td>4.5</td>\n",
       "      <td>52.5</td>\n",
       "      <td>0.692308</td>\n",
       "      <td>0.350877</td>\n",
       "      <td>-225</td>\n",
       "      <td>185</td>\n",
       "      <td>0</td>\n",
       "      <td>0.392313</td>\n",
       "      <td>0</td>\n",
       "      <td>0.339465</td>\n",
       "      <td>0</td>\n",
       "      <td>0.126423</td>\n",
       "      <td>-0.107687</td>\n",
       "      <td>0.107687</td>\n",
       "      <td>-0.160535</td>\n",
       "      <td>0.160535</td>\n",
       "      <td>-0.565885</td>\n",
       "      <td>0.5227</td>\n",
       "    </tr>\n",
       "  </tbody>\n",
       "</table>\n",
       "</div>"
      ],
      "text/plain": [
       "   season  week home away     home_qb  away_qb  home_spread  away_spread  \\\n",
       "0    2023     1   KC  DET  P. Mahomes  J. Goff         -4.5          4.5   \n",
       "\n",
       "   total_score_line  home_implied_prob  away_implied_prob  home_moneyline  \\\n",
       "0              52.5           0.692308           0.350877            -225   \n",
       "\n",
       "   away_moneyline  home_cover_pred  home_cover_prob  over_hits_pred  \\\n",
       "0             185                0         0.392313               0   \n",
       "\n",
       "   over_hits_prob  home_win_pred  home_win_prob  home_cover_advantage  \\\n",
       "0        0.339465              0       0.126423             -0.107687   \n",
       "\n",
       "   away_cover_advantage  over_advantage  under_advantage  home_win_advantage  \\\n",
       "0              0.107687       -0.160535         0.160535           -0.565885   \n",
       "\n",
       "   away_win_advantage  \n",
       "0              0.5227  "
      ]
     },
     "execution_count": 95,
     "metadata": {},
     "output_type": "execute_result"
    }
   ],
   "source": [
    "gambling_base"
   ]
  },
  {
   "cell_type": "code",
   "execution_count": 96,
   "metadata": {},
   "outputs": [],
   "source": [
    "def get_point_spread_bet(game, threshold):\n",
    "    if game.home_cover_advantage > game.away_cover_advantage:\n",
    "        bet_team = 'home'\n",
    "        bet_advantage = game.home_cover_advantage\n",
    "    else:\n",
    "        bet_team = 'away'\n",
    "        bet_advantage = game.away_cover_advantage\n",
    "        \n",
    "    if bet_advantage < threshold:\n",
    "        return 'none'\n",
    "    \n",
    "    else:\n",
    "        return bet_team\n",
    "    \n",
    "def get_over_under_bet(game, threshold):\n",
    "    if game.over_advantage > game.under_advantage:\n",
    "        bet_team = 'over'\n",
    "        bet_advantage = game.over_advantage\n",
    "    else:\n",
    "        bet_team = 'under'\n",
    "        bet_advantage = game.under_advantage\n",
    "        \n",
    "    if bet_advantage < threshold:\n",
    "        return 'none'\n",
    "    \n",
    "    else:\n",
    "        return bet_team\n",
    "    \n",
    "def get_game_outcome_bet(game, threshold):\n",
    "    if game.home_win_advantage > game.away_win_advantage:\n",
    "        bet_team = 'home'\n",
    "        bet_advantage = game.home_win_advantage\n",
    "    else:\n",
    "        bet_team = 'away'\n",
    "        bet_advantage = game.away_win_advantage\n",
    "        \n",
    "    if bet_advantage < threshold:\n",
    "        return 'none'\n",
    "    \n",
    "    else:\n",
    "        return bet_team"
   ]
  },
  {
   "cell_type": "code",
   "execution_count": 97,
   "metadata": {},
   "outputs": [],
   "source": [
    "gambling_final = gambling_base.copy()\n",
    "gambling_final['point_spread_algo_bet'] = gambling_final.apply(lambda x: get_point_spread_bet(x, .07), axis=1)\n",
    "gambling_final['over_under_algo_bet'] = gambling_final.apply(lambda x: get_over_under_bet(x, .07), axis=1)\n",
    "gambling_final['game_outcome_algo_bet'] = gambling_final.apply(lambda x: get_game_outcome_bet(x, .07), axis=1)"
   ]
  },
  {
   "cell_type": "code",
   "execution_count": 98,
   "metadata": {},
   "outputs": [],
   "source": [
    "def get_print_bet(game, bet_type='spread'):\n",
    "    if bet_type == 'spread' and game.point_spread_algo_bet != 'none':\n",
    "        return '{}, {}'.format(game[game.point_spread_algo_bet], game['{}_spread'.format(game.point_spread_algo_bet)])\n",
    "    if bet_type == 'over_under' and game.over_under_algo_bet != 'none':\n",
    "        return '{}'.format(game.over_under_algo_bet.capitalize())\n",
    "    if bet_type == 'outcome' and game.game_outcome_algo_bet != 'none':\n",
    "        return '{}, {}'.format(game[game.game_outcome_algo_bet], game['{}_moneyline'.format(game.game_outcome_algo_bet)])\n",
    "    else:\n",
    "        return None"
   ]
  },
  {
   "cell_type": "code",
   "execution_count": 99,
   "metadata": {},
   "outputs": [
    {
     "data": {
      "text/html": [
       "<div>\n",
       "<style scoped>\n",
       "    .dataframe tbody tr th:only-of-type {\n",
       "        vertical-align: middle;\n",
       "    }\n",
       "\n",
       "    .dataframe tbody tr th {\n",
       "        vertical-align: top;\n",
       "    }\n",
       "\n",
       "    .dataframe thead th {\n",
       "        text-align: right;\n",
       "    }\n",
       "</style>\n",
       "<table border=\"1\" class=\"dataframe\">\n",
       "  <thead>\n",
       "    <tr style=\"text-align: right;\">\n",
       "      <th></th>\n",
       "      <th>season</th>\n",
       "      <th>week</th>\n",
       "      <th>home</th>\n",
       "      <th>away</th>\n",
       "      <th>home_qb</th>\n",
       "      <th>away_qb</th>\n",
       "      <th>home_spread</th>\n",
       "      <th>away_spread</th>\n",
       "      <th>total_score_line</th>\n",
       "      <th>home_implied_prob</th>\n",
       "      <th>away_implied_prob</th>\n",
       "      <th>home_moneyline</th>\n",
       "      <th>away_moneyline</th>\n",
       "      <th>home_cover_pred</th>\n",
       "      <th>home_cover_prob</th>\n",
       "      <th>over_hits_pred</th>\n",
       "      <th>over_hits_prob</th>\n",
       "      <th>home_win_pred</th>\n",
       "      <th>home_win_prob</th>\n",
       "      <th>home_cover_advantage</th>\n",
       "      <th>away_cover_advantage</th>\n",
       "      <th>over_advantage</th>\n",
       "      <th>under_advantage</th>\n",
       "      <th>home_win_advantage</th>\n",
       "      <th>away_win_advantage</th>\n",
       "      <th>point_spread_algo_bet</th>\n",
       "      <th>over_under_algo_bet</th>\n",
       "      <th>game_outcome_algo_bet</th>\n",
       "    </tr>\n",
       "  </thead>\n",
       "  <tbody>\n",
       "    <tr>\n",
       "      <th>0</th>\n",
       "      <td>2023</td>\n",
       "      <td>1</td>\n",
       "      <td>KC</td>\n",
       "      <td>DET</td>\n",
       "      <td>P. Mahomes</td>\n",
       "      <td>J. Goff</td>\n",
       "      <td>-4.5</td>\n",
       "      <td>4.5</td>\n",
       "      <td>52.5</td>\n",
       "      <td>0.692308</td>\n",
       "      <td>0.350877</td>\n",
       "      <td>-225</td>\n",
       "      <td>185</td>\n",
       "      <td>0</td>\n",
       "      <td>0.392313</td>\n",
       "      <td>0</td>\n",
       "      <td>0.339465</td>\n",
       "      <td>0</td>\n",
       "      <td>0.126423</td>\n",
       "      <td>-0.107687</td>\n",
       "      <td>0.107687</td>\n",
       "      <td>-0.160535</td>\n",
       "      <td>0.160535</td>\n",
       "      <td>-0.565885</td>\n",
       "      <td>0.5227</td>\n",
       "      <td>away</td>\n",
       "      <td>under</td>\n",
       "      <td>away</td>\n",
       "    </tr>\n",
       "  </tbody>\n",
       "</table>\n",
       "</div>"
      ],
      "text/plain": [
       "   season  week home away     home_qb  away_qb  home_spread  away_spread  \\\n",
       "0    2023     1   KC  DET  P. Mahomes  J. Goff         -4.5          4.5   \n",
       "\n",
       "   total_score_line  home_implied_prob  away_implied_prob  home_moneyline  \\\n",
       "0              52.5           0.692308           0.350877            -225   \n",
       "\n",
       "   away_moneyline  home_cover_pred  home_cover_prob  over_hits_pred  \\\n",
       "0             185                0         0.392313               0   \n",
       "\n",
       "   over_hits_prob  home_win_pred  home_win_prob  home_cover_advantage  \\\n",
       "0        0.339465              0       0.126423             -0.107687   \n",
       "\n",
       "   away_cover_advantage  over_advantage  under_advantage  home_win_advantage  \\\n",
       "0              0.107687       -0.160535         0.160535           -0.565885   \n",
       "\n",
       "   away_win_advantage point_spread_algo_bet over_under_algo_bet  \\\n",
       "0              0.5227                  away               under   \n",
       "\n",
       "  game_outcome_algo_bet  \n",
       "0                  away  "
      ]
     },
     "execution_count": 99,
     "metadata": {},
     "output_type": "execute_result"
    }
   ],
   "source": [
    "gambling_final"
   ]
  },
  {
   "cell_type": "code",
   "execution_count": 100,
   "metadata": {},
   "outputs": [
    {
     "name": "stdout",
     "output_type": "stream",
     "text": [
      "DET @ KC\n",
      "\n",
      "DET, 4.5\n",
      "Under\n",
      "\n"
     ]
    }
   ],
   "source": [
    "check_week = 1\n",
    "gambling_final_week_check = gambling_final[gambling_final.week == check_week]\n",
    "\n",
    "for index, game in gambling_final_week_check.iterrows():\n",
    "    print('{} @ {}'.format(game.away, game.home))\n",
    "    print()\n",
    "    if get_print_bet(game, 'spread'):\n",
    "        print(get_print_bet(game, 'spread'))\n",
    "    if get_print_bet(game, 'game_outcome'):\n",
    "        print(get_print_bet(game, 'game_outcome'))\n",
    "    if get_print_bet(game, 'over_under'):\n",
    "        print(get_print_bet(game, 'over_under'))\n",
    "    print()"
   ]
  },
  {
   "cell_type": "code",
   "execution_count": null,
   "metadata": {},
   "outputs": [],
   "source": []
  },
  {
   "cell_type": "code",
   "execution_count": null,
   "metadata": {},
   "outputs": [],
   "source": []
  }
 ],
 "metadata": {
  "kernelspec": {
   "display_name": "Python 3 (ipykernel)",
   "language": "python",
   "name": "python3"
  },
  "language_info": {
   "codemirror_mode": {
    "name": "ipython",
    "version": 3
   },
   "file_extension": ".py",
   "mimetype": "text/x-python",
   "name": "python",
   "nbconvert_exporter": "python",
   "pygments_lexer": "ipython3",
   "version": "3.8.17"
  }
 },
 "nbformat": 4,
 "nbformat_minor": 4
}
